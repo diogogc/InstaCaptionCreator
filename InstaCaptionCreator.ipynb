{
  "nbformat": 4,
  "nbformat_minor": 0,
  "metadata": {
    "colab": {
      "provenance": [],
      "authorship_tag": "ABX9TyObSDSv1ly/NhoMB4LCNWTU"
    },
    "kernelspec": {
      "name": "python3",
      "display_name": "Python 3"
    },
    "language_info": {
      "name": "python"
    },
    "widgets": {
      "application/vnd.jupyter.widget-state+json": {
        "c2804541771e4ea1a20033eff0fdc2ed": {
          "model_module": "@jupyter-widgets/controls",
          "model_name": "VBoxModel",
          "model_module_version": "1.5.0",
          "state": {
            "_dom_classes": [
              "widget-interact"
            ],
            "_model_module": "@jupyter-widgets/controls",
            "_model_module_version": "1.5.0",
            "_model_name": "VBoxModel",
            "_view_count": null,
            "_view_module": "@jupyter-widgets/controls",
            "_view_module_version": "1.5.0",
            "_view_name": "VBoxView",
            "box_style": "",
            "children": [
              "IPY_MODEL_529a3d5f61234a85bc01b273de5455fd",
              "IPY_MODEL_5cbe14ed9b554ce7bbb3465329f34310"
            ],
            "layout": "IPY_MODEL_5186fc73d331402d9f44b7bc083ee5a3"
          }
        },
        "529a3d5f61234a85bc01b273de5455fd": {
          "model_module": "@jupyter-widgets/controls",
          "model_name": "DropdownModel",
          "model_module_version": "1.5.0",
          "state": {
            "_dom_classes": [],
            "_model_module": "@jupyter-widgets/controls",
            "_model_module_version": "1.5.0",
            "_model_name": "DropdownModel",
            "_options_labels": [
              "Astrofotografia",
              "Astronomia",
              "Fotografia de natureza",
              "Fotografia de pessoas",
              "Fotografia de produtos",
              "Fotografia de viagem",
              "Outros"
            ],
            "_view_count": null,
            "_view_module": "@jupyter-widgets/controls",
            "_view_module_version": "1.5.0",
            "_view_name": "DropdownView",
            "description": "categoriaPrompt",
            "description_tooltip": null,
            "disabled": false,
            "index": 4,
            "layout": "IPY_MODEL_a99c13d3e19441ea8bff03c324fb46b5",
            "style": "IPY_MODEL_9baca2361cd047b9aee8443d14983b9b"
          }
        },
        "5cbe14ed9b554ce7bbb3465329f34310": {
          "model_module": "@jupyter-widgets/output",
          "model_name": "OutputModel",
          "model_module_version": "1.0.0",
          "state": {
            "_dom_classes": [],
            "_model_module": "@jupyter-widgets/output",
            "_model_module_version": "1.0.0",
            "_model_name": "OutputModel",
            "_view_count": null,
            "_view_module": "@jupyter-widgets/output",
            "_view_module_version": "1.0.0",
            "_view_name": "OutputView",
            "layout": "IPY_MODEL_1987a249df6143dd80debac2a0728623",
            "msg_id": "",
            "outputs": [
              {
                "output_type": "display_data",
                "data": {
                  "text/plain": "'**Legenda para uma postagem de fotografia de produtos com o tema Impressoras 3D:**\\n\\n\"Descubra o futuro da fabricação com nossa impressora 3D de última geração. Esta máquina inovadora oferece precisão incomparável, velocidade excepcional e uma ampla gama de materiais, permitindo que você crie objetos personalizados, protótipos e peças de produção com facilidade.\\n\\nCom nossa impressora 3D, você tem o poder de transformar suas ideias em realidade. Seja você um designer, engenheiro ou entusiasta, este dispositivo poderoso capacita você a criar soluções inovadoras, impulsionar a inovação e dar vida aos seus projetos mais ambiciosos.\"'",
                  "application/vnd.google.colaboratory.intrinsic+json": {
                    "type": "string"
                  }
                },
                "metadata": {}
              }
            ]
          }
        },
        "5186fc73d331402d9f44b7bc083ee5a3": {
          "model_module": "@jupyter-widgets/base",
          "model_name": "LayoutModel",
          "model_module_version": "1.2.0",
          "state": {
            "_model_module": "@jupyter-widgets/base",
            "_model_module_version": "1.2.0",
            "_model_name": "LayoutModel",
            "_view_count": null,
            "_view_module": "@jupyter-widgets/base",
            "_view_module_version": "1.2.0",
            "_view_name": "LayoutView",
            "align_content": null,
            "align_items": null,
            "align_self": null,
            "border": null,
            "bottom": null,
            "display": null,
            "flex": null,
            "flex_flow": null,
            "grid_area": null,
            "grid_auto_columns": null,
            "grid_auto_flow": null,
            "grid_auto_rows": null,
            "grid_column": null,
            "grid_gap": null,
            "grid_row": null,
            "grid_template_areas": null,
            "grid_template_columns": null,
            "grid_template_rows": null,
            "height": null,
            "justify_content": null,
            "justify_items": null,
            "left": null,
            "margin": null,
            "max_height": null,
            "max_width": null,
            "min_height": null,
            "min_width": null,
            "object_fit": null,
            "object_position": null,
            "order": null,
            "overflow": null,
            "overflow_x": null,
            "overflow_y": null,
            "padding": null,
            "right": null,
            "top": null,
            "visibility": null,
            "width": null
          }
        },
        "a99c13d3e19441ea8bff03c324fb46b5": {
          "model_module": "@jupyter-widgets/base",
          "model_name": "LayoutModel",
          "model_module_version": "1.2.0",
          "state": {
            "_model_module": "@jupyter-widgets/base",
            "_model_module_version": "1.2.0",
            "_model_name": "LayoutModel",
            "_view_count": null,
            "_view_module": "@jupyter-widgets/base",
            "_view_module_version": "1.2.0",
            "_view_name": "LayoutView",
            "align_content": null,
            "align_items": null,
            "align_self": null,
            "border": null,
            "bottom": null,
            "display": null,
            "flex": null,
            "flex_flow": null,
            "grid_area": null,
            "grid_auto_columns": null,
            "grid_auto_flow": null,
            "grid_auto_rows": null,
            "grid_column": null,
            "grid_gap": null,
            "grid_row": null,
            "grid_template_areas": null,
            "grid_template_columns": null,
            "grid_template_rows": null,
            "height": null,
            "justify_content": null,
            "justify_items": null,
            "left": null,
            "margin": null,
            "max_height": null,
            "max_width": null,
            "min_height": null,
            "min_width": null,
            "object_fit": null,
            "object_position": null,
            "order": null,
            "overflow": null,
            "overflow_x": null,
            "overflow_y": null,
            "padding": null,
            "right": null,
            "top": null,
            "visibility": null,
            "width": null
          }
        },
        "9baca2361cd047b9aee8443d14983b9b": {
          "model_module": "@jupyter-widgets/controls",
          "model_name": "DescriptionStyleModel",
          "model_module_version": "1.5.0",
          "state": {
            "_model_module": "@jupyter-widgets/controls",
            "_model_module_version": "1.5.0",
            "_model_name": "DescriptionStyleModel",
            "_view_count": null,
            "_view_module": "@jupyter-widgets/base",
            "_view_module_version": "1.2.0",
            "_view_name": "StyleView",
            "description_width": ""
          }
        },
        "1987a249df6143dd80debac2a0728623": {
          "model_module": "@jupyter-widgets/base",
          "model_name": "LayoutModel",
          "model_module_version": "1.2.0",
          "state": {
            "_model_module": "@jupyter-widgets/base",
            "_model_module_version": "1.2.0",
            "_model_name": "LayoutModel",
            "_view_count": null,
            "_view_module": "@jupyter-widgets/base",
            "_view_module_version": "1.2.0",
            "_view_name": "LayoutView",
            "align_content": null,
            "align_items": null,
            "align_self": null,
            "border": null,
            "bottom": null,
            "display": null,
            "flex": null,
            "flex_flow": null,
            "grid_area": null,
            "grid_auto_columns": null,
            "grid_auto_flow": null,
            "grid_auto_rows": null,
            "grid_column": null,
            "grid_gap": null,
            "grid_row": null,
            "grid_template_areas": null,
            "grid_template_columns": null,
            "grid_template_rows": null,
            "height": null,
            "justify_content": null,
            "justify_items": null,
            "left": null,
            "margin": null,
            "max_height": null,
            "max_width": null,
            "min_height": null,
            "min_width": null,
            "object_fit": null,
            "object_position": null,
            "order": null,
            "overflow": null,
            "overflow_x": null,
            "overflow_y": null,
            "padding": null,
            "right": null,
            "top": null,
            "visibility": null,
            "width": null
          }
        }
      }
    }
  },
  "cells": [
    {
      "cell_type": "markdown",
      "source": [
        "# Criador de Legenda para o Instagram\n",
        "\n",
        "Essa aplicação tem por objetivo aprender com suas postagens e gerar insights e ideias para Legendas para novos post."
      ],
      "metadata": {
        "id": "eeh3B4oo613e"
      }
    },
    {
      "cell_type": "code",
      "source": [
        "#@title Instalar Bibliotecas\n",
        "!pip install -q -U google-generativeai\n",
        "!pip install -q -U instagrapi"
      ],
      "metadata": {
        "colab": {
          "base_uri": "https://localhost:8080/"
        },
        "id": "bjj-xxHoZk80",
        "outputId": "ce159b26-9626-4514-dabd-4058cfc4f673"
      },
      "execution_count": 1,
      "outputs": [
        {
          "output_type": "stream",
          "name": "stdout",
          "text": [
            "\u001b[?25l     \u001b[90m━━━━━━━━━━━━━━━━━━━━━━━━━━━━━━━━━━━━━━━━\u001b[0m \u001b[32m0.0/100.4 kB\u001b[0m \u001b[31m?\u001b[0m eta \u001b[36m-:--:--\u001b[0m\r\u001b[2K     \u001b[91m━━━━━━━━━━━━━━━━━━━━━━━━━━━━\u001b[0m\u001b[91m╸\u001b[0m\u001b[90m━━━━━━━━━━━\u001b[0m \u001b[32m71.7/100.4 kB\u001b[0m \u001b[31m2.0 MB/s\u001b[0m eta \u001b[36m0:00:01\u001b[0m\r\u001b[2K     \u001b[90m━━━━━━━━━━━━━━━━━━━━━━━━━━━━━━━━━━━━━━━━\u001b[0m \u001b[32m100.4/100.4 kB\u001b[0m \u001b[31m1.6 MB/s\u001b[0m eta \u001b[36m0:00:00\u001b[0m\n",
            "\u001b[?25h  Preparing metadata (setup.py) ... \u001b[?25l\u001b[?25hdone\n",
            "\u001b[2K     \u001b[90m━━━━━━━━━━━━━━━━━━━━━━━━━━━━━━━━━━━━━━━━\u001b[0m \u001b[32m394.9/394.9 kB\u001b[0m \u001b[31m7.2 MB/s\u001b[0m eta \u001b[36m0:00:00\u001b[0m\n",
            "\u001b[2K     \u001b[90m━━━━━━━━━━━━━━━━━━━━━━━━━━━━━━━━━━━━━━━━\u001b[0m \u001b[32m2.1/2.1 MB\u001b[0m \u001b[31m11.3 MB/s\u001b[0m eta \u001b[36m0:00:00\u001b[0m\n",
            "\u001b[2K     \u001b[90m━━━━━━━━━━━━━━━━━━━━━━━━━━━━━━━━━━━━━━━━\u001b[0m \u001b[32m2.2/2.2 MB\u001b[0m \u001b[31m8.2 MB/s\u001b[0m eta \u001b[36m0:00:00\u001b[0m\n",
            "\u001b[?25h  Building wheel for instagrapi (setup.py) ... \u001b[?25l\u001b[?25hdone\n"
          ]
        }
      ]
    },
    {
      "cell_type": "code",
      "source": [
        "#@title Libs e Variáveis\n",
        "# Libs Utilizadas\n",
        "from instagrapi import Client\n",
        "import json\n",
        "import google.generativeai as genai\n",
        "from google.colab import userdata\n",
        "import ipywidgets as widgets\n",
        "\n",
        "insta_user = userdata.get('insta_user')\n",
        "insta_password = userdata.get('insta_password')\n",
        "google_api_key = userdata.get('Gemini_API_KEY')"
      ],
      "metadata": {
        "id": "1EClC-jq9NVM"
      },
      "execution_count": 16,
      "outputs": []
    },
    {
      "cell_type": "code",
      "execution_count": 18,
      "metadata": {
        "colab": {
          "base_uri": "https://localhost:8080/"
        },
        "id": "0o-shdJbZEm-",
        "outputId": "39c6ad41-74df-4350-e463-f4813ce71bb7"
      },
      "outputs": [
        {
          "output_type": "stream",
          "name": "stdout",
          "text": [
            "[{\"legenda\": \"Minhas Imagens de ontem :) Podia o foco podia estar melhor, mas foi massa!\", \"qtd_curtidas\": 53, \"qtd_cometarios\": 7}, {\"legenda\": \"Primeira foto do sol com o filtro no telescopio! Prepara\\u00e7\\u00e3o para o eclipse do dia 14! Foto ao lado, da nasa\", \"qtd_curtidas\": 33, \"qtd_cometarios\": 2}, {\"legenda\": \"\", \"qtd_curtidas\": 14, \"qtd_cometarios\": 0}, {\"legenda\": \"Mais uma para conta!!\", \"qtd_curtidas\": 59, \"qtd_cometarios\": 6}, {\"legenda\": \"\", \"qtd_curtidas\": 23, \"qtd_cometarios\": 1}, {\"legenda\": \"Raul sendo premiado pelo desempenho nas competi\\u00e7\\u00f5es de nata\\u00e7\\u00e3o do ano! Parab\\u00e9ns filho!\", \"qtd_curtidas\": 42, \"qtd_cometarios\": 2}, {\"legenda\": \"20000 Leagues Under the Seas\", \"qtd_curtidas\": 26, \"qtd_cometarios\": 2}, {\"legenda\": \"Gerando imagens com o #stablediffusion localmente no meu pc.\", \"qtd_curtidas\": 17, \"qtd_cometarios\": 1}, {\"legenda\": \"\", \"qtd_curtidas\": 23, \"qtd_cometarios\": 0}, {\"legenda\": \"Primeira corrida de rua :)\", \"qtd_curtidas\": 20, \"qtd_cometarios\": 2}, {\"legenda\": \"Te amo :)\", \"qtd_curtidas\": 38, \"qtd_cometarios\": 1}, {\"legenda\": \"\\\"Nos vag\\u00f5es do trem do tempo...\\\" Valeu @tetextattoo !\", \"qtd_curtidas\": 31, \"qtd_cometarios\": 2}, {\"legenda\": \"Lua de ontem :)\", \"qtd_curtidas\": 12, \"qtd_cometarios\": 0}, {\"legenda\": \"#TBT montando antenas desde 1990\", \"qtd_curtidas\": 26, \"qtd_cometarios\": 0}, {\"legenda\": \"#moon #moonshot\", \"qtd_curtidas\": 19, \"qtd_cometarios\": 1}, {\"legenda\": \"J\\u00fapiter\", \"qtd_curtidas\": 20, \"qtd_cometarios\": 2}, {\"legenda\": \"Olhem a lua!\", \"qtd_curtidas\": 24, \"qtd_cometarios\": 1}, {\"legenda\": \"Quase razo\\u00e1vel de Saturno\", \"qtd_curtidas\": 28, \"qtd_cometarios\": 5}, {\"legenda\": \"Primeira foto razo\\u00e1vel de J\\u00fapiter :)\", \"qtd_curtidas\": 20, \"qtd_cometarios\": 0}, {\"legenda\": \"#moonshot #olheparalua\", \"qtd_curtidas\": 20, \"qtd_cometarios\": 1}, {\"legenda\": \"#olhemalua #lookatthemoon\", \"qtd_curtidas\": 22, \"qtd_cometarios\": 3}, {\"legenda\": \"#olhemalua\", \"qtd_curtidas\": 21, \"qtd_cometarios\": 1}, {\"legenda\": \"#orionnebula #astrophotography exposi\\u00e7\\u00e3o 1s iso 3600, direto na ocular do  @celestronuniverse  @celestronbrasil 76mm firstscope.\", \"qtd_curtidas\": 25, \"qtd_cometarios\": 4}, {\"legenda\": \"\", \"qtd_curtidas\": 28, \"qtd_cometarios\": 3}, {\"legenda\": \"Nebulosa de Orion\", \"qtd_curtidas\": 20, \"qtd_cometarios\": 1}, {\"legenda\": \"#lua #olheparalua\", \"qtd_curtidas\": 22, \"qtd_cometarios\": 2}, {\"legenda\": \"Sunrise!\", \"qtd_curtidas\": 20, \"qtd_cometarios\": 1}, {\"legenda\": \"#observethemoon\", \"qtd_curtidas\": 5, \"qtd_cometarios\": 0}, {\"legenda\": \"#iomn #observethemoon  #observealua  #moonshot\", \"qtd_curtidas\": 13, \"qtd_cometarios\": 0}, {\"legenda\": \"#moonshot\", \"qtd_curtidas\": 17, \"qtd_cometarios\": 2}, {\"legenda\": \"J\\u00e1 viu a lua hoje?\", \"qtd_curtidas\": 22, \"qtd_cometarios\": 1}, {\"legenda\": \"Mais uma, de hoje ;)\", \"qtd_curtidas\": 19, \"qtd_cometarios\": 0}, {\"legenda\": \"Primeira foto que consigo tirar de Saturno... se olharmos bem direitinho, d\\u00e1 para ver os an\\u00e9is. Olhando pela objetiva, direto no olho , d\\u00e1 para ver bem mais detalhes. Com o tempo vou pegando a manha as Configs da c\\u00e2mera\", \"qtd_curtidas\": 29, \"qtd_cometarios\": 4}, {\"legenda\": \"Lua de hj :)\", \"qtd_curtidas\": 14, \"qtd_cometarios\": 2}, {\"legenda\": \"Close-up\", \"qtd_curtidas\": 21, \"qtd_cometarios\": 4}, {\"legenda\": \"Lua\", \"qtd_curtidas\": 21, \"qtd_cometarios\": 3}, {\"legenda\": \"Segura essa lua!\", \"qtd_curtidas\": 23, \"qtd_cometarios\": 4}, {\"legenda\": \"Do bit ao \\u00e1tomo, conceito do @andreqaq , qnd vi quis logo ver uma vers\\u00e3o impressa em 3d ! Minha primeira tentativa de modelagem de algo do tipo, e acho que ficou pr\\u00f3ximo hehehe #bitamania @mundobita\", \"qtd_curtidas\": 27, \"qtd_cometarios\": 2}, {\"legenda\": \"#tbt a felicidade de ter ganho o boneco de a\\u00e7\\u00e3o mais irado dos anos 90\", \"qtd_curtidas\": 30, \"qtd_cometarios\": 1}, {\"legenda\": \"Imagem de cima, capturada por mim, feita pelo Sat NOAA 18 (tive uma janela de 5 min com ru\\u00eddo baixo), Imagem de baixo, feita pelo Sat GOES 16, baixada do site da ag\\u00eancia. Apesar da baixa resolu\\u00e7\\u00e3o, d\\u00e1 para ver um monte de detalhes!\", \"qtd_curtidas\": 17, \"qtd_cometarios\": 2}, {\"legenda\": \"Imagem obtida direto do sat\\u00e9lite NOAA hj \\u00e0s 06:45. Retomando um antigo hobby :)\", \"qtd_curtidas\": 19, \"qtd_cometarios\": 6}, {\"legenda\": \"\", \"qtd_curtidas\": 46, \"qtd_cometarios\": 3}, {\"legenda\": \"Steampunk Batman filamentos @boaimpressao3d prata e filamento com efus\\u00e3o de bronze\", \"qtd_curtidas\": 17, \"qtd_cometarios\": 0}, {\"legenda\": \"\", \"qtd_curtidas\": 22, \"qtd_cometarios\": 1}, {\"legenda\": \"\", \"qtd_curtidas\": 30, \"qtd_cometarios\": 5}, {\"legenda\": \"\", \"qtd_curtidas\": 20, \"qtd_cometarios\": 0}, {\"legenda\": \"Maquinista Raul, Foguista Isaac\", \"qtd_curtidas\": 25, \"qtd_cometarios\": 1}, {\"legenda\": \"Macuca\", \"qtd_curtidas\": 13, \"qtd_cometarios\": 0}, {\"legenda\": \"Simbora\", \"qtd_curtidas\": 16, \"qtd_cometarios\": 2}, {\"legenda\": \"#betocarrero\", \"qtd_curtidas\": 29, \"qtd_cometarios\": 1}]\n"
          ]
        }
      ],
      "source": [
        "#@title Obtenção dados do Insta\n",
        "\n",
        "# Classe Post com dados relevantes da postagem\n",
        "class Post:\n",
        "    def __init__(self, legenda, qtd_curtidas, qtd_comentarios):\n",
        "        self.legenda = legenda\n",
        "        self.qtd_curtidas = qtd_curtidas\n",
        "        self.qtd_cometarios = qtd_comentarios\n",
        "\n",
        "# Inicia capturas de dados no Insta\n",
        "cl = Client()\n",
        "cl.login(insta_user, insta_password)\n",
        "\n",
        "user_id = cl.user_id_from_username(insta_user)\n",
        "\n",
        "\n",
        "# Retorna uma Lista com as postagens\n",
        "qtd_postagens = 50 #@param {type:\"integer\"}\n",
        "medias = cl.user_medias_v1(user_id,qtd_postagens)\n",
        "\n",
        "#lista para armazenar objetos do tipo Post\n",
        "postList = []\n",
        "\n",
        "# Transformando objetos do tipo Media em objetos do tipo Post para simplificar\n",
        "for aMedia in medias:\n",
        "    aPost = Post(aMedia.caption_text,aMedia.like_count, aMedia.comment_count)\n",
        "    postList.append(aPost)\n",
        "\n",
        "#Json da lista de objetos Post para passar ao Gemini\n",
        "jsonPostList = json.dumps([aPost.__dict__ for aPost in postList])\n",
        "\n",
        "print(jsonPostList)"
      ]
    },
    {
      "cell_type": "code",
      "source": [
        "#@title Utilizando o Google Gemini\n",
        "\n",
        "GOOGLE_API_KEY = userdata.get('Gemini_API_KEY')\n",
        "genai.configure(api_key=GOOGLE_API_KEY)\n",
        "\n",
        "model = genai.GenerativeModel(model_name=\"gemini-1.0-pro\")\n",
        "\n",
        "promptLearning = \"Dado o seguinte json com posts de instagram \"+jsonPostList+\" crie uma categorizacao dos tipos de postagem, e quero como resposta em json apenas das categorias\"\n",
        "\n",
        "chat = model.start_chat(history=[])\n",
        "\n",
        "response = chat.send_message(promptLearning)\n",
        "\n",
        "responseCleanup = response.text.replace('```json', '')\n",
        "responseCleanup = responseCleanup.replace('```', '')\n",
        "\n",
        "aCategList = json.loads(responseCleanup)\n",
        "\n",
        "print(aCategList)"
      ],
      "metadata": {
        "colab": {
          "base_uri": "https://localhost:8080/",
          "height": 34
        },
        "id": "-1dz9fF4BOpi",
        "outputId": "9726e1f8-2dcc-47db-83f2-9a9c6b9eb7aa"
      },
      "execution_count": 26,
      "outputs": [
        {
          "output_type": "stream",
          "name": "stdout",
          "text": [
            "{'categorias': ['Astrofotografia', 'Astronomia', 'Fotografia de natureza', 'Fotografia de pessoas', 'Fotografia de produtos', 'Fotografia de viagem', 'Outros']}\n"
          ]
        }
      ]
    },
    {
      "cell_type": "code",
      "source": [
        "#@title Criando Prompt Geração de Legenda\n",
        "#@markdown Primeiro, defina o tema ou principal conteúdo de sua postagem e depois execute esse código.\n",
        "\n",
        "\n",
        "tema = 'Impressoras 3d' #@param {type:\"string\"}\n",
        "#@markdown Após executar, selecione a categoria que dará o tom de sua postagem.\n",
        "@widgets.interact(categoriaPrompt=aCategList['categorias'])\n",
        "\n",
        "def userPrompt(categoriaPrompt):\n",
        "  if len(categoriaPrompt):\n",
        "    promptFinal = \"Escreva um post no estilo das legendas apresentadas na categoria \"+categoriaPrompt+\" com tema \"+tema\n",
        "    return chat.send_message(promptFinal).text\n",
        "  else :\n",
        "    return 'Escreva um post de astronomia'\n",
        "\n",
        "# aResponse = chat.send_message(user_prompt)\n",
        "# while user_prompt != \"fim\":\n",
        "#   aResponse = chat.send_message(user_prompt)\n",
        "#   print(\"Resposta: \",aResponse.text, \"\\n\")\n",
        "#   user_prompt = input(\"Esperando Prompt: \")"
      ],
      "metadata": {
        "colab": {
          "base_uri": "https://localhost:8080/",
          "height": 102,
          "referenced_widgets": [
            "c2804541771e4ea1a20033eff0fdc2ed",
            "529a3d5f61234a85bc01b273de5455fd",
            "5cbe14ed9b554ce7bbb3465329f34310",
            "5186fc73d331402d9f44b7bc083ee5a3",
            "a99c13d3e19441ea8bff03c324fb46b5",
            "9baca2361cd047b9aee8443d14983b9b",
            "1987a249df6143dd80debac2a0728623"
          ]
        },
        "id": "agb8eQujErvA",
        "outputId": "fd79b741-9420-4f42-d5a2-b09e8fd07bb9"
      },
      "execution_count": 30,
      "outputs": [
        {
          "output_type": "display_data",
          "data": {
            "text/plain": [
              "interactive(children=(Dropdown(description='categoriaPrompt', options=('Astrofotografia', 'Astronomia', 'Fotog…"
            ],
            "application/vnd.jupyter.widget-view+json": {
              "version_major": 2,
              "version_minor": 0,
              "model_id": "c2804541771e4ea1a20033eff0fdc2ed"
            }
          },
          "metadata": {}
        }
      ]
    }
  ]
}