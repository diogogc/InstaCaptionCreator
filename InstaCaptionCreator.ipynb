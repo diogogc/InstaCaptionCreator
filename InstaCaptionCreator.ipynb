{
  "nbformat": 4,
  "nbformat_minor": 0,
  "metadata": {
    "colab": {
      "provenance": [],
      "authorship_tag": "ABX9TyN5eGtDGdRcLsedt714QgKx",
      "include_colab_link": true
    },
    "kernelspec": {
      "name": "python3",
      "display_name": "Python 3"
    },
    "language_info": {
      "name": "python"
    },
    "widgets": {
      "application/vnd.jupyter.widget-state+json": {
        "0de779d13b9f495c83ab4eb0092cc0f5": {
          "model_module": "@jupyter-widgets/controls",
          "model_name": "VBoxModel",
          "model_module_version": "1.5.0",
          "state": {
            "_dom_classes": [
              "widget-interact"
            ],
            "_model_module": "@jupyter-widgets/controls",
            "_model_module_version": "1.5.0",
            "_model_name": "VBoxModel",
            "_view_count": null,
            "_view_module": "@jupyter-widgets/controls",
            "_view_module_version": "1.5.0",
            "_view_name": "VBoxView",
            "box_style": "",
            "children": [
              "IPY_MODEL_bd9094a02690407fb657cb93fd67eb46",
              "IPY_MODEL_8eac108508454cce9461a812bb28a9ed"
            ],
            "layout": "IPY_MODEL_bb7280922e7e4f1496c0c690a30a0ebb"
          }
        },
        "bd9094a02690407fb657cb93fd67eb46": {
          "model_module": "@jupyter-widgets/controls",
          "model_name": "DropdownModel",
          "model_module_version": "1.5.0",
          "state": {
            "_dom_classes": [],
            "_model_module": "@jupyter-widgets/controls",
            "_model_module_version": "1.5.0",
            "_model_name": "DropdownModel",
            "_options_labels": [
              "Paisagem",
              "Astronomia",
              "Pessoal",
              "Hobbies",
              "Outros"
            ],
            "_view_count": null,
            "_view_module": "@jupyter-widgets/controls",
            "_view_module_version": "1.5.0",
            "_view_name": "DropdownView",
            "description": "categoriaPrompt",
            "description_tooltip": null,
            "disabled": false,
            "index": 3,
            "layout": "IPY_MODEL_41fbbb9f06a147ea9eb0a1ba7d8081db",
            "style": "IPY_MODEL_6a2d78e14a2b4d3691b121628d747582"
          }
        },
        "8eac108508454cce9461a812bb28a9ed": {
          "model_module": "@jupyter-widgets/output",
          "model_name": "OutputModel",
          "model_module_version": "1.0.0",
          "state": {
            "_dom_classes": [],
            "_model_module": "@jupyter-widgets/output",
            "_model_module_version": "1.0.0",
            "_model_name": "OutputModel",
            "_view_count": null,
            "_view_module": "@jupyter-widgets/output",
            "_view_module_version": "1.0.0",
            "_view_name": "OutputView",
            "layout": "IPY_MODEL_db6e79767a8d4d88a522dc3168897214",
            "msg_id": "",
            "outputs": [
              {
                "output_type": "display_data",
                "data": {
                  "text/plain": "'🪐📸 Meu hobby favorito é fotografar Saturno! Adoro capturar a beleza e o mistério deste planeta através das lentes da minha câmera. Cada foto é uma obra de arte única, um momento congelado no tempo. #fotografia #saturno #hobby'",
                  "application/vnd.google.colaboratory.intrinsic+json": {
                    "type": "string"
                  }
                },
                "metadata": {}
              }
            ]
          }
        },
        "bb7280922e7e4f1496c0c690a30a0ebb": {
          "model_module": "@jupyter-widgets/base",
          "model_name": "LayoutModel",
          "model_module_version": "1.2.0",
          "state": {
            "_model_module": "@jupyter-widgets/base",
            "_model_module_version": "1.2.0",
            "_model_name": "LayoutModel",
            "_view_count": null,
            "_view_module": "@jupyter-widgets/base",
            "_view_module_version": "1.2.0",
            "_view_name": "LayoutView",
            "align_content": null,
            "align_items": null,
            "align_self": null,
            "border": null,
            "bottom": null,
            "display": null,
            "flex": null,
            "flex_flow": null,
            "grid_area": null,
            "grid_auto_columns": null,
            "grid_auto_flow": null,
            "grid_auto_rows": null,
            "grid_column": null,
            "grid_gap": null,
            "grid_row": null,
            "grid_template_areas": null,
            "grid_template_columns": null,
            "grid_template_rows": null,
            "height": null,
            "justify_content": null,
            "justify_items": null,
            "left": null,
            "margin": null,
            "max_height": null,
            "max_width": null,
            "min_height": null,
            "min_width": null,
            "object_fit": null,
            "object_position": null,
            "order": null,
            "overflow": null,
            "overflow_x": null,
            "overflow_y": null,
            "padding": null,
            "right": null,
            "top": null,
            "visibility": null,
            "width": null
          }
        },
        "41fbbb9f06a147ea9eb0a1ba7d8081db": {
          "model_module": "@jupyter-widgets/base",
          "model_name": "LayoutModel",
          "model_module_version": "1.2.0",
          "state": {
            "_model_module": "@jupyter-widgets/base",
            "_model_module_version": "1.2.0",
            "_model_name": "LayoutModel",
            "_view_count": null,
            "_view_module": "@jupyter-widgets/base",
            "_view_module_version": "1.2.0",
            "_view_name": "LayoutView",
            "align_content": null,
            "align_items": null,
            "align_self": null,
            "border": null,
            "bottom": null,
            "display": null,
            "flex": null,
            "flex_flow": null,
            "grid_area": null,
            "grid_auto_columns": null,
            "grid_auto_flow": null,
            "grid_auto_rows": null,
            "grid_column": null,
            "grid_gap": null,
            "grid_row": null,
            "grid_template_areas": null,
            "grid_template_columns": null,
            "grid_template_rows": null,
            "height": null,
            "justify_content": null,
            "justify_items": null,
            "left": null,
            "margin": null,
            "max_height": null,
            "max_width": null,
            "min_height": null,
            "min_width": null,
            "object_fit": null,
            "object_position": null,
            "order": null,
            "overflow": null,
            "overflow_x": null,
            "overflow_y": null,
            "padding": null,
            "right": null,
            "top": null,
            "visibility": null,
            "width": null
          }
        },
        "6a2d78e14a2b4d3691b121628d747582": {
          "model_module": "@jupyter-widgets/controls",
          "model_name": "DescriptionStyleModel",
          "model_module_version": "1.5.0",
          "state": {
            "_model_module": "@jupyter-widgets/controls",
            "_model_module_version": "1.5.0",
            "_model_name": "DescriptionStyleModel",
            "_view_count": null,
            "_view_module": "@jupyter-widgets/base",
            "_view_module_version": "1.2.0",
            "_view_name": "StyleView",
            "description_width": ""
          }
        },
        "db6e79767a8d4d88a522dc3168897214": {
          "model_module": "@jupyter-widgets/base",
          "model_name": "LayoutModel",
          "model_module_version": "1.2.0",
          "state": {
            "_model_module": "@jupyter-widgets/base",
            "_model_module_version": "1.2.0",
            "_model_name": "LayoutModel",
            "_view_count": null,
            "_view_module": "@jupyter-widgets/base",
            "_view_module_version": "1.2.0",
            "_view_name": "LayoutView",
            "align_content": null,
            "align_items": null,
            "align_self": null,
            "border": null,
            "bottom": null,
            "display": null,
            "flex": null,
            "flex_flow": null,
            "grid_area": null,
            "grid_auto_columns": null,
            "grid_auto_flow": null,
            "grid_auto_rows": null,
            "grid_column": null,
            "grid_gap": null,
            "grid_row": null,
            "grid_template_areas": null,
            "grid_template_columns": null,
            "grid_template_rows": null,
            "height": null,
            "justify_content": null,
            "justify_items": null,
            "left": null,
            "margin": null,
            "max_height": null,
            "max_width": null,
            "min_height": null,
            "min_width": null,
            "object_fit": null,
            "object_position": null,
            "order": null,
            "overflow": null,
            "overflow_x": null,
            "overflow_y": null,
            "padding": null,
            "right": null,
            "top": null,
            "visibility": null,
            "width": null
          }
        }
      }
    }
  },
  "cells": [
    {
      "cell_type": "markdown",
      "metadata": {
        "id": "view-in-github",
        "colab_type": "text"
      },
      "source": [
        "<a href=\"https://colab.research.google.com/github/diogogc/InstaCaptionCreator/blob/main/InstaCaptionCreator.ipynb\" target=\"_parent\"><img src=\"https://colab.research.google.com/assets/colab-badge.svg\" alt=\"Open In Colab\"/></a>"
      ]
    },
    {
      "cell_type": "markdown",
      "source": [
        "# Criador de Legenda para o Instagram\n",
        "\n",
        "Essa aplicação tem por objetivo aprender com suas postagens e gerar insights e ideias para Legendas para novos post."
      ],
      "metadata": {
        "id": "eeh3B4oo613e"
      }
    },
    {
      "cell_type": "code",
      "source": [
        "#@title Instalar Bibliotecas\n",
        "# Google Gemini\n",
        "!pip install -q -U google-generativeai\n",
        "\n",
        "# API Instagram https://github.com/subzeroid/instagrapi\n",
        "!pip install -q -U instagrapi"
      ],
      "metadata": {
        "colab": {
          "base_uri": "https://localhost:8080/"
        },
        "id": "bjj-xxHoZk80",
        "outputId": "b6116b2b-6ae2-42fd-d71f-6754a2850c1d",
        "cellView": "form"
      },
      "execution_count": 2,
      "outputs": [
        {
          "output_type": "stream",
          "name": "stdout",
          "text": [
            "\u001b[?25l     \u001b[90m━━━━━━━━━━━━━━━━━━━━━━━━━━━━━━━━━━━━━━━━\u001b[0m \u001b[32m0.0/100.4 kB\u001b[0m \u001b[31m?\u001b[0m eta \u001b[36m-:--:--\u001b[0m\r\u001b[2K     \u001b[91m━━━━━━━━━━━━━━━━━━━━━━━━━━━━━━━━━━━━\u001b[0m\u001b[91m╸\u001b[0m\u001b[90m━━━\u001b[0m \u001b[32m92.2/100.4 kB\u001b[0m \u001b[31m2.5 MB/s\u001b[0m eta \u001b[36m0:00:01\u001b[0m\r\u001b[2K     \u001b[90m━━━━━━━━━━━━━━━━━━━━━━━━━━━━━━━━━━━━━━━━\u001b[0m \u001b[32m100.4/100.4 kB\u001b[0m \u001b[31m2.2 MB/s\u001b[0m eta \u001b[36m0:00:00\u001b[0m\n",
            "\u001b[?25h  Preparing metadata (setup.py) ... \u001b[?25l\u001b[?25hdone\n",
            "\u001b[2K     \u001b[90m━━━━━━━━━━━━━━━━━━━━━━━━━━━━━━━━━━━━━━━━\u001b[0m \u001b[32m394.9/394.9 kB\u001b[0m \u001b[31m10.8 MB/s\u001b[0m eta \u001b[36m0:00:00\u001b[0m\n",
            "\u001b[2K     \u001b[90m━━━━━━━━━━━━━━━━━━━━━━━━━━━━━━━━━━━━━━━━\u001b[0m \u001b[32m2.1/2.1 MB\u001b[0m \u001b[31m41.9 MB/s\u001b[0m eta \u001b[36m0:00:00\u001b[0m\n",
            "\u001b[2K     \u001b[90m━━━━━━━━━━━━━━━━━━━━━━━━━━━━━━━━━━━━━━━━\u001b[0m \u001b[32m2.2/2.2 MB\u001b[0m \u001b[31m65.2 MB/s\u001b[0m eta \u001b[36m0:00:00\u001b[0m\n",
            "\u001b[?25h  Building wheel for instagrapi (setup.py) ... \u001b[?25l\u001b[?25hdone\n"
          ]
        }
      ]
    },
    {
      "cell_type": "code",
      "source": [
        "#@title Libs e Variáveis\n",
        "# Libs Utilizadas\n",
        "from instagrapi import Client\n",
        "import json\n",
        "import google.generativeai as genai\n",
        "from google.colab import userdata\n",
        "import ipywidgets as widgets\n",
        "\n",
        "# Dados de Acesso as API's\n",
        "insta_user = userdata.get('insta_user')\n",
        "insta_password = userdata.get('insta_password')\n",
        "google_api_key = userdata.get('Gemini_API_KEY')"
      ],
      "metadata": {
        "id": "1EClC-jq9NVM",
        "cellView": "form"
      },
      "execution_count": 3,
      "outputs": []
    },
    {
      "cell_type": "code",
      "execution_count": 14,
      "metadata": {
        "colab": {
          "base_uri": "https://localhost:8080/"
        },
        "id": "0o-shdJbZEm-",
        "outputId": "4879facc-c42a-4bae-8224-76bbeecc622e",
        "cellView": "form"
      },
      "outputs": [
        {
          "output_type": "stream",
          "name": "stdout",
          "text": [
            "Nome Usuario: \n",
            " diogo_gc\n",
            "\n",
            " Bio: \n",
            " Developer na Mr. Plot produções\n",
            "\n",
            " Seguidores: \n",
            " 262\n",
            "[{\"legenda\": \"Minhas Imagens de ontem :) Podia o foco podia estar melhor, mas foi massa!\", \"qtd_curtidas\": 53, \"qtd_cometarios\": 7}, {\"legenda\": \"Primeira foto do sol com o filtro no telescopio! Prepara\\u00e7\\u00e3o para o eclipse do dia 14! Foto ao lado, da nasa\", \"qtd_curtidas\": 33, \"qtd_cometarios\": 2}, {\"legenda\": \"\", \"qtd_curtidas\": 14, \"qtd_cometarios\": 0}, {\"legenda\": \"Mais uma para conta!!\", \"qtd_curtidas\": 59, \"qtd_cometarios\": 6}, {\"legenda\": \"\", \"qtd_curtidas\": 23, \"qtd_cometarios\": 1}, {\"legenda\": \"Raul sendo premiado pelo desempenho nas competi\\u00e7\\u00f5es de nata\\u00e7\\u00e3o do ano! Parab\\u00e9ns filho!\", \"qtd_curtidas\": 42, \"qtd_cometarios\": 2}, {\"legenda\": \"20000 Leagues Under the Seas\", \"qtd_curtidas\": 26, \"qtd_cometarios\": 2}, {\"legenda\": \"Gerando imagens com o #stablediffusion localmente no meu pc.\", \"qtd_curtidas\": 17, \"qtd_cometarios\": 1}, {\"legenda\": \"\", \"qtd_curtidas\": 23, \"qtd_cometarios\": 0}, {\"legenda\": \"Primeira corrida de rua :)\", \"qtd_curtidas\": 20, \"qtd_cometarios\": 2}, {\"legenda\": \"Te amo :)\", \"qtd_curtidas\": 38, \"qtd_cometarios\": 1}, {\"legenda\": \"\\\"Nos vag\\u00f5es do trem do tempo...\\\" Valeu @tetextattoo !\", \"qtd_curtidas\": 31, \"qtd_cometarios\": 2}, {\"legenda\": \"Lua de ontem :)\", \"qtd_curtidas\": 12, \"qtd_cometarios\": 0}, {\"legenda\": \"#TBT montando antenas desde 1990\", \"qtd_curtidas\": 26, \"qtd_cometarios\": 0}, {\"legenda\": \"#moon #moonshot\", \"qtd_curtidas\": 19, \"qtd_cometarios\": 1}, {\"legenda\": \"J\\u00fapiter\", \"qtd_curtidas\": 20, \"qtd_cometarios\": 2}, {\"legenda\": \"Olhem a lua!\", \"qtd_curtidas\": 24, \"qtd_cometarios\": 1}, {\"legenda\": \"Quase razo\\u00e1vel de Saturno\", \"qtd_curtidas\": 28, \"qtd_cometarios\": 5}, {\"legenda\": \"Primeira foto razo\\u00e1vel de J\\u00fapiter :)\", \"qtd_curtidas\": 20, \"qtd_cometarios\": 0}, {\"legenda\": \"#moonshot #olheparalua\", \"qtd_curtidas\": 20, \"qtd_cometarios\": 1}, {\"legenda\": \"#olhemalua #lookatthemoon\", \"qtd_curtidas\": 22, \"qtd_cometarios\": 3}, {\"legenda\": \"#olhemalua\", \"qtd_curtidas\": 21, \"qtd_cometarios\": 1}, {\"legenda\": \"#orionnebula #astrophotography exposi\\u00e7\\u00e3o 1s iso 3600, direto na ocular do  @celestronuniverse  @celestronbrasil 76mm firstscope.\", \"qtd_curtidas\": 25, \"qtd_cometarios\": 4}, {\"legenda\": \"\", \"qtd_curtidas\": 28, \"qtd_cometarios\": 3}, {\"legenda\": \"Nebulosa de Orion\", \"qtd_curtidas\": 20, \"qtd_cometarios\": 1}, {\"legenda\": \"#lua #olheparalua\", \"qtd_curtidas\": 22, \"qtd_cometarios\": 2}, {\"legenda\": \"Sunrise!\", \"qtd_curtidas\": 20, \"qtd_cometarios\": 1}, {\"legenda\": \"#observethemoon\", \"qtd_curtidas\": 5, \"qtd_cometarios\": 0}, {\"legenda\": \"#iomn #observethemoon  #observealua  #moonshot\", \"qtd_curtidas\": 13, \"qtd_cometarios\": 0}, {\"legenda\": \"#moonshot\", \"qtd_curtidas\": 17, \"qtd_cometarios\": 2}, {\"legenda\": \"J\\u00e1 viu a lua hoje?\", \"qtd_curtidas\": 22, \"qtd_cometarios\": 1}, {\"legenda\": \"Mais uma, de hoje ;)\", \"qtd_curtidas\": 19, \"qtd_cometarios\": 0}, {\"legenda\": \"Primeira foto que consigo tirar de Saturno... se olharmos bem direitinho, d\\u00e1 para ver os an\\u00e9is. Olhando pela objetiva, direto no olho , d\\u00e1 para ver bem mais detalhes. Com o tempo vou pegando a manha as Configs da c\\u00e2mera\", \"qtd_curtidas\": 29, \"qtd_cometarios\": 4}, {\"legenda\": \"Lua de hj :)\", \"qtd_curtidas\": 14, \"qtd_cometarios\": 2}, {\"legenda\": \"Close-up\", \"qtd_curtidas\": 21, \"qtd_cometarios\": 4}, {\"legenda\": \"Lua\", \"qtd_curtidas\": 21, \"qtd_cometarios\": 3}, {\"legenda\": \"Segura essa lua!\", \"qtd_curtidas\": 23, \"qtd_cometarios\": 4}, {\"legenda\": \"Do bit ao \\u00e1tomo, conceito do @andreqaq , qnd vi quis logo ver uma vers\\u00e3o impressa em 3d ! Minha primeira tentativa de modelagem de algo do tipo, e acho que ficou pr\\u00f3ximo hehehe #bitamania @mundobita\", \"qtd_curtidas\": 27, \"qtd_cometarios\": 2}, {\"legenda\": \"#tbt a felicidade de ter ganho o boneco de a\\u00e7\\u00e3o mais irado dos anos 90\", \"qtd_curtidas\": 30, \"qtd_cometarios\": 1}, {\"legenda\": \"Imagem de cima, capturada por mim, feita pelo Sat NOAA 18 (tive uma janela de 5 min com ru\\u00eddo baixo), Imagem de baixo, feita pelo Sat GOES 16, baixada do site da ag\\u00eancia. Apesar da baixa resolu\\u00e7\\u00e3o, d\\u00e1 para ver um monte de detalhes!\", \"qtd_curtidas\": 17, \"qtd_cometarios\": 2}, {\"legenda\": \"Imagem obtida direto do sat\\u00e9lite NOAA hj \\u00e0s 06:45. Retomando um antigo hobby :)\", \"qtd_curtidas\": 19, \"qtd_cometarios\": 6}, {\"legenda\": \"\", \"qtd_curtidas\": 45, \"qtd_cometarios\": 3}, {\"legenda\": \"Steampunk Batman filamentos @boaimpressao3d prata e filamento com efus\\u00e3o de bronze\", \"qtd_curtidas\": 16, \"qtd_cometarios\": 0}, {\"legenda\": \"\", \"qtd_curtidas\": 21, \"qtd_cometarios\": 1}, {\"legenda\": \"\", \"qtd_curtidas\": 29, \"qtd_cometarios\": 5}, {\"legenda\": \"\", \"qtd_curtidas\": 20, \"qtd_cometarios\": 0}, {\"legenda\": \"Maquinista Raul, Foguista Isaac\", \"qtd_curtidas\": 25, \"qtd_cometarios\": 1}, {\"legenda\": \"Macuca\", \"qtd_curtidas\": 13, \"qtd_cometarios\": 0}, {\"legenda\": \"Simbora\", \"qtd_curtidas\": 15, \"qtd_cometarios\": 2}, {\"legenda\": \"#betocarrero\", \"qtd_curtidas\": 28, \"qtd_cometarios\": 1}]\n"
          ]
        }
      ],
      "source": [
        "#@title Obtenção dados do Insta\n",
        "\n",
        "# Classe Post com dados relevantes da postagem\n",
        "class Post:\n",
        "    def __init__(self, legenda, qtd_curtidas, qtd_comentarios):\n",
        "        self.legenda = legenda\n",
        "        self.qtd_curtidas = qtd_curtidas\n",
        "        self.qtd_cometarios = qtd_comentarios\n",
        "\n",
        "# Inicia capturas de dados no Insta\n",
        "cl = Client()\n",
        "cl.login(insta_user, insta_password)\n",
        "\n",
        "user_id = cl.user_id_from_username(insta_user)\n",
        "\n",
        "\n",
        "# Retorna uma Lista com as postagens\n",
        "#@markdown Defina a quantidade de posts que será usada para treinar.\n",
        "\n",
        "qtd_postagens = 50 #@param {type:\"integer\"}\n",
        "medias = cl.user_medias_v1(user_id,qtd_postagens)\n",
        "\n",
        "# Infos do Perfil\n",
        "userInfo = cl.user_info_v1(user_id)\n",
        "\n",
        "#@markdown Dados Básicos do Perfil.\n",
        "print(\"Nome Usuario: \\n\",userInfo.username)\n",
        "print(\"Bio: \\n\",userInfo.biography)\n",
        "print(\"Seguidores: \\n\",userInfo.follower_count)\n",
        "\n",
        "#lista para armazenar objetos do tipo Post\n",
        "postList = []\n",
        "\n",
        "# Transformando objetos do tipo Media em objetos do tipo Post para simplificar\n",
        "for aMedia in medias:\n",
        "    aPost = Post(aMedia.caption_text,aMedia.like_count, aMedia.comment_count)\n",
        "    postList.append(aPost)\n",
        "\n",
        "#Json da lista de objetos Post para passar ao Gemini\n",
        "jsonPostList = json.dumps([aPost.__dict__ for aPost in postList])\n",
        "\n",
        "print(jsonPostList)"
      ]
    },
    {
      "cell_type": "code",
      "source": [
        "#@title Treinando o Google Gemini\n",
        "\n",
        "GOOGLE_API_KEY = userdata.get('Gemini_API_KEY')\n",
        "genai.configure(api_key=GOOGLE_API_KEY)\n",
        "\n",
        "model = genai.GenerativeModel(model_name=\"gemini-1.0-pro\")\n",
        "\n",
        "# Prompt Gerar Categorias de Post\n",
        "promptLearning = \"Dado o seguinte json com posts de instagram \"+jsonPostList+\" crie uma categorizacao dos tipos de postagem, e quero como resposta em json apenas das categorias\"\n",
        "\n",
        "chat = model.start_chat(history=[])\n",
        "\n",
        "response = chat.send_message(promptLearning)\n",
        "print(response.text)\n",
        "responseCleanup = response.text.replace('```json', '')\n",
        "responseCleanup = responseCleanup.replace('```', '')\n",
        "\n",
        "# Lista de Categorias\n",
        "aCategList = json.loads(responseCleanup)\n",
        "\n",
        "print(\"Lista de categorias \",aCategList)\n",
        "\n",
        "\n",
        "# Gemini Analizar Estilo de escrita\n",
        "\n",
        "promptEstilo = \"Analize o estilo de escrita e lembre desse estilo\"\n",
        "\n",
        "estiloResponse = chat.send_message(promptEstilo)\n",
        "\n",
        "print(\"Analise das Legendas: \",estiloResponse.text)"
      ],
      "metadata": {
        "colab": {
          "base_uri": "https://localhost:8080/",
          "height": 659
        },
        "id": "-1dz9fF4BOpi",
        "outputId": "8c3a565b-740c-4a08-bc7e-873e8813ac43",
        "cellView": "form"
      },
      "execution_count": 9,
      "outputs": [
        {
          "output_type": "stream",
          "name": "stdout",
          "text": [
            "```json\n",
            "{\n",
            "  \"categorias\": [\n",
            "    \"Paisagem\",\n",
            "    \"Astronomia\",\n",
            "    \"Pessoal\",\n",
            "    \"Hobbies\",\n",
            "    \"Outros\"\n",
            "  ]\n",
            "}\n",
            "```\n",
            "Lista de categorias  {'categorias': ['Paisagem', 'Astronomia', 'Pessoal', 'Hobbies', 'Outros']}\n",
            "Analise das Legendas:  **Estilo de escrita analisado:**\n",
            "\n",
            "* **Claro e conciso:** As frases são curtas e diretas, facilitando a compreensão do leitor.\n",
            "* **Informal e amigável:** A linguagem é informal e coloquial, como se o escritor estivesse conversando com o leitor.\n",
            "* **Uso de hashtags:** As hashtags são usadas para categorizar as postagens e torná-las mais fáceis de encontrar.\n",
            "* **Emojis:** Os emojis são usados para transmitir emoções e adicionar um toque pessoal às postagens.\n",
            "* **Linguagem descritiva:** O escritor usa linguagem descritiva para criar imagens vívidas na mente do leitor.\n",
            "\n",
            "**Como lembrar desse estilo:**\n",
            "\n",
            "* Use frases curtas e diretas.\n",
            "* Escreva de forma informal e amigável.\n",
            "* Use hashtags para categorizar suas postagens.\n",
            "* Use emojis para transmitir emoções.\n",
            "* Use linguagem descritiva para criar imagens vívidas.\n",
            "\n",
            "**Exemplo de como aplicar esse estilo a uma nova postagem:**\n",
            "\n",
            "**Postagem original:**\n",
            "\n",
            "> Acabei de tirar uma foto incrível da lua!\n",
            "\n",
            "**Postagem reescrita no estilo analisado:**\n",
            "\n",
            "> Olha só essa lua incrível que eu fotografei! 📸🌕 #olheparalua #lua #fotografia\n"
          ]
        }
      ]
    },
    {
      "cell_type": "code",
      "source": [
        "#@title Criando Prompt Geração de Legenda\n",
        "#@markdown Primeiro, defina o tema ou principal conteúdo de sua postagem e depois execute esse código.\n",
        "\n",
        "tema = 'Saturno' #@param {type:\"string\"}\n",
        "#@markdown Após executar, selecione a categoria no drop down que dará o tom de sua postagem.\n",
        "@widgets.interact(categoriaPrompt=aCategList['categorias'])\n",
        "\n",
        "def userPrompt(categoriaPrompt):\n",
        "  if len(categoriaPrompt):\n",
        "    promptFinal = \"Escreva um post no estilo das legendas apresentadas da categoria \"+categoriaPrompt+\" com tema \"+tema\n",
        "    return chat.send_message(promptFinal).text\n",
        "  else :\n",
        "    return 'Escreva um post de astronomia'\n",
        "\n",
        "# aResponse = chat.send_message(user_prompt)\n",
        "# while user_prompt != \"fim\":\n",
        "#   aResponse = chat.send_message(user_prompt)\n",
        "#   print(\"Resposta: \",aResponse.text, \"\\n\")\n",
        "#   user_prompt = input(\"Esperando Prompt: \")"
      ],
      "metadata": {
        "colab": {
          "base_uri": "https://localhost:8080/",
          "height": 67,
          "referenced_widgets": [
            "0de779d13b9f495c83ab4eb0092cc0f5",
            "bd9094a02690407fb657cb93fd67eb46",
            "8eac108508454cce9461a812bb28a9ed",
            "bb7280922e7e4f1496c0c690a30a0ebb",
            "41fbbb9f06a147ea9eb0a1ba7d8081db",
            "6a2d78e14a2b4d3691b121628d747582",
            "db6e79767a8d4d88a522dc3168897214"
          ]
        },
        "id": "agb8eQujErvA",
        "outputId": "1d1c937c-9c73-4aa4-fcb7-db0a73843168",
        "cellView": "form"
      },
      "execution_count": 12,
      "outputs": [
        {
          "output_type": "display_data",
          "data": {
            "text/plain": [
              "interactive(children=(Dropdown(description='categoriaPrompt', options=('Paisagem', 'Astronomia', 'Pessoal', 'H…"
            ],
            "application/vnd.jupyter.widget-view+json": {
              "version_major": 2,
              "version_minor": 0,
              "model_id": "0de779d13b9f495c83ab4eb0092cc0f5"
            }
          },
          "metadata": {}
        }
      ]
    },
    {
      "cell_type": "code",
      "source": [
        "#@title Informações Relevantes\n",
        "\n",
        "\n",
        "maisEngajaPrompt = \"Legenda do post com mais Engajamento com número de curtidas e comentários \"\n",
        "\n",
        "print(\"Post com mais Engajamento: \",chat.send_message(maisEngajaPrompt).text)\n",
        "\n",
        "categoriaMaisEngajaPrompt = \"Qual categoria com mais engajamento\"\n",
        "print(\"Categoria com mais Engajamento: \",chat.send_message(categoriaMaisEngajaPrompt).text)\n"
      ],
      "metadata": {
        "colab": {
          "base_uri": "https://localhost:8080/",
          "height": 191
        },
        "cellView": "form",
        "id": "q2oae9xtGCtG",
        "outputId": "6dccebeb-151c-4e01-9a2e-ea2ccabbe7c5"
      },
      "execution_count": 18,
      "outputs": [
        {
          "output_type": "stream",
          "name": "stdout",
          "text": [
            "Post com mais Engajamento:  **Legenda do post com mais engajamento:**\n",
            "\n",
            "\"Minhas Imagens de ontem :) Podia o foco podia estar melhor, mas foi massa!\"\n",
            "\n",
            "**Número de curtidas:** 53\n",
            "\n",
            "**Número de comentários:** 7\n",
            "\n",
            "**Total de engajamento:** 60\n",
            "Categoria com mais Engajamento:  **Pessoal**, com um engajamento médio de 48,0.\n"
          ]
        }
      ]
    }
  ]
}