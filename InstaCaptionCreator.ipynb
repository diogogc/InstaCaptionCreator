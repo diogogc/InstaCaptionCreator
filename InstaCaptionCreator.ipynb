{
  "nbformat": 4,
  "nbformat_minor": 0,
  "metadata": {
    "colab": {
      "provenance": [],
      "authorship_tag": "ABX9TyN6mzkaiQUk4gVUNvVdj1CA",
      "include_colab_link": true
    },
    "kernelspec": {
      "name": "python3",
      "display_name": "Python 3"
    },
    "language_info": {
      "name": "python"
    }
  },
  "cells": [
    {
      "cell_type": "markdown",
      "metadata": {
        "id": "view-in-github",
        "colab_type": "text"
      },
      "source": [
        "<a href=\"https://colab.research.google.com/github/diogogc/InstaCaptionCreator/blob/main/InstaCaptionCreator.ipynb\" target=\"_parent\"><img src=\"https://colab.research.google.com/assets/colab-badge.svg\" alt=\"Open In Colab\"/></a>"
      ]
    },
    {
      "cell_type": "markdown",
      "source": [
        "# Criador de Legenda para o Instagram\n",
        "\n",
        "Essa aplicação tem por objetivo aprender com suas postagens e gerar insights e ideias para Legendas para novos post."
      ],
      "metadata": {
        "id": "eeh3B4oo613e"
      }
    },
    {
      "cell_type": "code",
      "source": [
        "#@title Instalar Bibliotecas\n",
        "# Google Gemini\n",
        "!pip install -q -U google-generativeai\n",
        "\n",
        "# API Instagram https://github.com/subzeroid/instagrapi\n",
        "!pip install -q -U instagrapi"
      ],
      "metadata": {
        "id": "bjj-xxHoZk80",
        "cellView": "form"
      },
      "execution_count": null,
      "outputs": []
    },
    {
      "cell_type": "code",
      "source": [
        "#@title Libs e Variáveis\n",
        "# Libs Utilizadas\n",
        "from instagrapi import Client\n",
        "import json\n",
        "import google.generativeai as genai\n",
        "from google.colab import userdata\n",
        "import ipywidgets as widgets\n",
        "\n",
        "# Dados de Acesso as API's\n",
        "insta_user = userdata.get('insta_user')\n",
        "insta_password = userdata.get('insta_password')\n",
        "google_api_key = userdata.get('Gemini_API_KEY')"
      ],
      "metadata": {
        "id": "1EClC-jq9NVM",
        "cellView": "form"
      },
      "execution_count": null,
      "outputs": []
    },
    {
      "cell_type": "code",
      "execution_count": null,
      "metadata": {
        "id": "0o-shdJbZEm-",
        "cellView": "form"
      },
      "outputs": [],
      "source": [
        "#@title Obtenção dados do Insta\n",
        "\n",
        "#@markdown Durante o processo de Login, pode ser que seja nescessário autenticar em 2 fatores. Um input irá aparecer, caso necessite.\n",
        "\n",
        "# Classe Post com dados relevantes da postagem\n",
        "class Post:\n",
        "    def __init__(self, legenda, qtd_curtidas, qtd_comentarios):\n",
        "        self.legenda = legenda\n",
        "        self.qtd_curtidas = qtd_curtidas\n",
        "        self.qtd_cometarios = qtd_comentarios\n",
        "\n",
        "# Inicia login e acesso aos dados no Insta\n",
        "# !!! Durante o processo de Login, pode ser que seja nescessário autenticar em 2 fatores. Um input irá aparecer, caso necessite. !!!\n",
        "cl = Client()\n",
        "cl.login(insta_user, insta_password)\n",
        "\n",
        "user_id = cl.user_id_from_username(insta_user)\n",
        "\n",
        "\n",
        "# Retorna uma Lista com as postagens\n",
        "#@markdown Defina a quantidade de posts que será usada para treinar antes de executar esse trecho.\n",
        "\n",
        "qtd_postagens = 50 #@param {type:\"integer\"}\n",
        "medias = cl.user_medias_v1(user_id,qtd_postagens)\n",
        "\n",
        "# Infos do Perfil\n",
        "userInfo = cl.user_info_v1(user_id)\n",
        "\n",
        "#@markdown Dados Básicos do Perfil.\n",
        "print(\"Nome Usuario: \\n\",userInfo.username)\n",
        "print(\"Bio: \\n\",userInfo.biography)\n",
        "print(\"Seguidores: \\n\",userInfo.follower_count)\n",
        "\n",
        "#lista para armazenar objetos do tipo Post\n",
        "postList = []\n",
        "\n",
        "# Transformando objetos do tipo Media em objetos do tipo Post para simplificar\n",
        "for aMedia in medias:\n",
        "    aPost = Post(aMedia.caption_text,aMedia.like_count, aMedia.comment_count)\n",
        "    postList.append(aPost)\n",
        "\n",
        "#Json da lista de objetos Post para passar ao Gemini\n",
        "jsonPostList = json.dumps([aPost.__dict__ for aPost in postList])\n",
        "\n",
        "print(jsonPostList)"
      ]
    },
    {
      "cell_type": "code",
      "source": [
        "#@title Treinando o Google Gemini\n",
        "\n",
        "GOOGLE_API_KEY = userdata.get('Gemini_API_KEY')\n",
        "genai.configure(api_key=GOOGLE_API_KEY)\n",
        "\n",
        "model = genai.GenerativeModel(model_name=\"gemini-1.0-pro\")\n",
        "\n",
        "# Prompt Gerar Categorias de Post\n",
        "promptLearning = \"Dado o seguinte json com posts de instagram \"+jsonPostList+\" crie uma categorizacao dos tipos de postagem, e quero como resposta em json apenas das categorias\"\n",
        "\n",
        "chat = model.start_chat(history=[])\n",
        "\n",
        "response = chat.send_message(promptLearning)\n",
        "print(response.text)\n",
        "responseCleanup = response.text.replace('```json', '')\n",
        "responseCleanup = responseCleanup.replace('```', '')\n",
        "\n",
        "# Lista de Categorias\n",
        "aCategList = json.loads(responseCleanup)\n",
        "\n",
        "print(\"Lista de categorias \",aCategList)\n",
        "\n",
        "\n",
        "# Gemini Analizar Estilo de escrita\n",
        "\n",
        "promptEstilo = \"Analize o estilo de escrita e lembre desse estilo\"\n",
        "\n",
        "estiloResponse = chat.send_message(promptEstilo)\n",
        "\n",
        "print(\"Analise das Legendas: \",estiloResponse.text)"
      ],
      "metadata": {
        "id": "-1dz9fF4BOpi",
        "cellView": "form"
      },
      "execution_count": null,
      "outputs": []
    },
    {
      "cell_type": "code",
      "source": [
        "#@title Criando Prompt Geração de Legenda\n",
        "#@markdown Primeiro, defina o tema ou principal conteúdo de sua postagem e depois execute esse código.\n",
        "\n",
        "tema = 'Saturno' #@param {type:\"string\"}\n",
        "#@markdown Após executar, selecione a categoria no drop down que dará o tom de sua postagem.\n",
        "@widgets.interact(categoriaPrompt=aCategList['categorias'])\n",
        "\n",
        "def userPrompt(categoriaPrompt):\n",
        "  if len(categoriaPrompt):\n",
        "    promptFinal = \"Escreva um post no estilo das legendas apresentadas da categoria \"+categoriaPrompt+\" com tema \"+tema\n",
        "    return chat.send_message(promptFinal).text\n",
        "  else :\n",
        "    return 'Escreva um post de astronomia'\n",
        "\n",
        "# aResponse = chat.send_message(user_prompt)\n",
        "# while user_prompt != \"fim\":\n",
        "#   aResponse = chat.send_message(user_prompt)\n",
        "#   print(\"Resposta: \",aResponse.text, \"\\n\")\n",
        "#   user_prompt = input(\"Esperando Prompt: \")"
      ],
      "metadata": {
        "id": "agb8eQujErvA",
        "cellView": "form"
      },
      "execution_count": null,
      "outputs": []
    },
    {
      "cell_type": "code",
      "source": [
        "#@title Informações Relevantes\n",
        "\n",
        "\n",
        "maisEngajaPrompt = \"Legenda do post com mais Engajamento com número de curtidas e comentários \"\n",
        "\n",
        "print(\"Post com mais Engajamento: \",chat.send_message(maisEngajaPrompt).text)\n",
        "\n",
        "categoriaMaisEngajaPrompt = \"Qual categoria com mais engajamento\"\n",
        "print(\"Categoria com mais Engajamento: \",chat.send_message(categoriaMaisEngajaPrompt).text)\n"
      ],
      "metadata": {
        "cellView": "form",
        "id": "q2oae9xtGCtG"
      },
      "execution_count": null,
      "outputs": []
    }
  ]
}